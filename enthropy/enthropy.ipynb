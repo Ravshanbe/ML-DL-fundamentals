{
 "cells": [
  {
   "cell_type": "markdown",
   "metadata": {},
   "source": [
    "extra material - [A Short Introduction to Entropy, Cross-Entropy and KL-Divergence\n",
    "](https://youtu.be/ErfnhcEV1O8)"
   ]
  },
  {
   "cell_type": "markdown",
   "metadata": {},
   "source": [
    "### computing entropy"
   ]
  },
  {
   "cell_type": "code",
   "execution_count": 18,
   "metadata": {},
   "outputs": [
    {
     "name": "stdout",
     "output_type": "stream",
     "text": [
      "1.77618965018486\n"
     ]
    }
   ],
   "source": [
    "import numpy as np\n",
    "\n",
    "# p_dist is true probability distribution of the data\n",
    "q_dist=np.array([0.01, 0.01,0.04, 0.04 ,0.1, 0.1 , 0.35, 0.35 ]) # as there are only 8 elements, we can encode them with 3 bits. log2(8) = 3\n",
    "p_dist = np.array([0.25, 0.25, 0.125, 0.125, 0.0625, 0.0625, 0.03125, 0.03125]) # predicted probability distribution\n",
    "\n",
    "# but values are not equally distributed. so we need to calculate the entropy to find the average amount of information\n",
    "def calculate_entropy(p_dist):\n",
    "    entropy = 0\n",
    "    for i in p_dist:\n",
    "        entropy += i*np.log(i) # entropy formula\n",
    "    entropy = -entropy # this part was missing in the entropy formula above. amount of information should be positive\n",
    "    return entropy\n",
    "entropy = calculate_entropy(p_dist=p_dist)\n",
    "print(entropy)"
   ]
  },
  {
   "cell_type": "markdown",
   "metadata": {},
   "source": [
    "### computing cross entropy"
   ]
  },
  {
   "cell_type": "code",
   "execution_count": 19,
   "metadata": {},
   "outputs": [
    {
     "name": "stdout",
     "output_type": "stream",
     "text": [
      "3.460741068616518\n"
     ]
    }
   ],
   "source": [
    "\n",
    "\n",
    "def calculate_cross_entropy(p_dist, q_dist):\n",
    "    cross_entropy = 0\n",
    "    for i,e in enumerate(p_dist):\n",
    "        cross_entropy += e*np.log(q_dist[i])\n",
    "    cross_entropy = -cross_entropy\n",
    "    return cross_entropy\n",
    "\n",
    "cross_entropy = calculate_cross_entropy(p_dist, q_dist)\n",
    "print(cross_entropy)"
   ]
  },
  {
   "cell_type": "code",
   "execution_count": 17,
   "metadata": {},
   "outputs": [
    {
     "name": "stdout",
     "output_type": "stream",
     "text": [
      "1.6296081115074479\n"
     ]
    }
   ],
   "source": [
    "def kl_divergence(p_dist, q_dist):\n",
    "    entropy = calculate_entropy(p_dist=p_dist)\n",
    "    cross_entropy = calculate_cross_entropy(p_dist=p_dist, q_dist=q_dist)\n",
    "    kl_result = cross_entropy-entropy\n",
    "\n",
    "    return kl_result\n",
    "\n",
    "kl = kl_divergence(q_dist=q_dist, p_dist=p_dist)\n",
    "\n",
    "print(kl)"
   ]
  }
 ],
 "metadata": {
  "kernelspec": {
   "display_name": "Python 3",
   "language": "python",
   "name": "python3"
  },
  "language_info": {
   "codemirror_mode": {
    "name": "ipython",
    "version": 3
   },
   "file_extension": ".py",
   "mimetype": "text/x-python",
   "name": "python",
   "nbconvert_exporter": "python",
   "pygments_lexer": "ipython3",
   "version": "3.12.7"
  }
 },
 "nbformat": 4,
 "nbformat_minor": 2
}
