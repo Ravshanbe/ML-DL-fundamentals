{
 "cells": [
  {
   "cell_type": "code",
   "execution_count": 1,
   "id": "80061453",
   "metadata": {},
   "outputs": [],
   "source": [
    "a = [3.6, 2, 4]\n"
   ]
  },
  {
   "cell_type": "code",
   "execution_count": 2,
   "id": "acbdb16a",
   "metadata": {},
   "outputs": [],
   "source": [
    "import numpy as np\n",
    "\n",
    "norm_a = np.linalg.norm(a)"
   ]
  },
  {
   "cell_type": "code",
   "execution_count": 5,
   "id": "310df2da",
   "metadata": {},
   "outputs": [],
   "source": [
    "a1 = a/norm_a"
   ]
  },
  {
   "cell_type": "code",
   "execution_count": 9,
   "id": "a5bb63af",
   "metadata": {},
   "outputs": [
    {
     "data": {
      "text/plain": [
       "np.float64(1.0)"
      ]
     },
     "execution_count": 9,
     "metadata": {},
     "output_type": "execute_result"
    }
   ],
   "source": [
    "V = np.matmul(a1,np.transpose(a1))\n",
    "V"
   ]
  },
  {
   "cell_type": "code",
   "execution_count": 18,
   "id": "b195e57c",
   "metadata": {},
   "outputs": [],
   "source": [
    "a1 = np.array(a1)\n",
    "a1 = a1.reshape(-1, 1)"
   ]
  },
  {
   "cell_type": "code",
   "execution_count": 20,
   "id": "444effc8",
   "metadata": {},
   "outputs": [],
   "source": [
    "a1t = a1 @ a1.T\n",
    "a1t = 2* a1t"
   ]
  },
  {
   "cell_type": "code",
   "execution_count": 34,
   "id": "ffa1f1a0",
   "metadata": {},
   "outputs": [
    {
     "data": {
      "text/plain": [
       "array([[0.78640777, 0.4368932 , 0.87378641],\n",
       "       [0.4368932 , 0.24271845, 0.48543689],\n",
       "       [0.87378641, 0.48543689, 0.97087379]])"
      ]
     },
     "execution_count": 34,
     "metadata": {},
     "output_type": "execute_result"
    }
   ],
   "source": [
    "a1t"
   ]
  },
  {
   "cell_type": "code",
   "execution_count": 33,
   "id": "60131b5f",
   "metadata": {},
   "outputs": [
    {
     "data": {
      "text/plain": [
       "array([[ 0.21359223, -0.4368932 , -0.87378641],\n",
       "       [-0.4368932 ,  0.75728155, -0.48543689],\n",
       "       [-0.87378641, -0.48543689,  0.02912621]])"
      ]
     },
     "execution_count": 33,
     "metadata": {},
     "output_type": "execute_result"
    }
   ],
   "source": [
    "HX1 = np.eye(3) - a1t\n",
    "HX1"
   ]
  },
  {
   "cell_type": "code",
   "execution_count": 36,
   "id": "a429aee1",
   "metadata": {},
   "outputs": [
    {
     "data": {
      "text/plain": [
       "matrix([[-4.15533981, -5.46601942],\n",
       "        [-0.86407767, -0.59223301],\n",
       "        [-1.72815534, -2.18446602]])"
      ]
     },
     "execution_count": 36,
     "metadata": {},
     "output_type": "execute_result"
    }
   ],
   "source": [
    "HX1@A0"
   ]
  },
  {
   "cell_type": "code",
   "execution_count": 32,
   "id": "7f9a20d3",
   "metadata": {},
   "outputs": [
    {
     "data": {
      "text/plain": [
       "array([0.51449576, 0.85749293])"
      ]
     },
     "execution_count": 32,
     "metadata": {},
     "output_type": "execute_result"
    }
   ],
   "source": [
    "b1 = np.array([3, 5])\n",
    "norm_b1 = np.linalg.norm(b1)\n",
    "b1 = b1/norm_b1\n",
    "b1"
   ]
  },
  {
   "cell_type": "code",
   "execution_count": null,
   "id": "08552952",
   "metadata": {},
   "outputs": [],
   "source": []
  },
  {
   "cell_type": "code",
   "execution_count": null,
   "id": "aa2bb324",
   "metadata": {},
   "outputs": [],
   "source": []
  },
  {
   "cell_type": "code",
   "execution_count": null,
   "id": "4afd3603",
   "metadata": {},
   "outputs": [],
   "source": []
  },
  {
   "cell_type": "code",
   "execution_count": 26,
   "id": "4b2feb73",
   "metadata": {},
   "outputs": [
    {
     "data": {
      "text/plain": [
       "matrix([[1, 1],\n",
       "        [2, 3],\n",
       "        [4, 5]])"
      ]
     },
     "execution_count": 26,
     "metadata": {},
     "output_type": "execute_result"
    }
   ],
   "source": [
    "A0 = np.matrix([[1, 1], [2, 3], [4, 5]])\n",
    "A0"
   ]
  },
  {
   "cell_type": "code",
   "execution_count": 27,
   "id": "9ae9ec88",
   "metadata": {},
   "outputs": [],
   "source": [
    "Q, R = np.linalg.qr(A0)"
   ]
  },
  {
   "cell_type": "code",
   "execution_count": 28,
   "id": "4dba00c2",
   "metadata": {},
   "outputs": [
    {
     "data": {
      "text/plain": [
       "matrix([[-0.21821789,  0.53452248],\n",
       "        [-0.43643578, -0.80178373],\n",
       "        [-0.87287156,  0.26726124]])"
      ]
     },
     "execution_count": 28,
     "metadata": {},
     "output_type": "execute_result"
    }
   ],
   "source": [
    "Q"
   ]
  },
  {
   "cell_type": "code",
   "execution_count": 29,
   "id": "8ef1b0eb",
   "metadata": {},
   "outputs": [
    {
     "data": {
      "text/plain": [
       "matrix([[-4.58257569, -5.89188304],\n",
       "        [ 0.        , -0.53452248]])"
      ]
     },
     "execution_count": 29,
     "metadata": {},
     "output_type": "execute_result"
    }
   ],
   "source": [
    "R"
   ]
  },
  {
   "cell_type": "code",
   "execution_count": null,
   "id": "24125dc9",
   "metadata": {},
   "outputs": [],
   "source": []
  }
 ],
 "metadata": {
  "kernelspec": {
   "display_name": "Python 3",
   "language": "python",
   "name": "python3"
  },
  "language_info": {
   "codemirror_mode": {
    "name": "ipython",
    "version": 3
   },
   "file_extension": ".py",
   "mimetype": "text/x-python",
   "name": "python",
   "nbconvert_exporter": "python",
   "pygments_lexer": "ipython3",
   "version": "3.12.7"
  }
 },
 "nbformat": 4,
 "nbformat_minor": 5
}
