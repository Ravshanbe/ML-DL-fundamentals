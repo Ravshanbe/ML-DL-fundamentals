{
 "cells": [
  {
   "cell_type": "code",
   "execution_count": 372,
   "id": "ba8d5b9c",
   "metadata": {},
   "outputs": [
    {
     "name": "stdout",
     "output_type": "stream",
     "text": [
      "Requirement already satisfied: tqdm in /Library/Frameworks/Python.framework/Versions/3.12/lib/python3.12/site-packages (4.66.5)\n",
      "\n",
      "\u001b[1m[\u001b[0m\u001b[34;49mnotice\u001b[0m\u001b[1;39;49m]\u001b[0m\u001b[39;49m A new release of pip is available: \u001b[0m\u001b[31;49m25.0.1\u001b[0m\u001b[39;49m -> \u001b[0m\u001b[32;49m25.1.1\u001b[0m\n",
      "\u001b[1m[\u001b[0m\u001b[34;49mnotice\u001b[0m\u001b[1;39;49m]\u001b[0m\u001b[39;49m To update, run: \u001b[0m\u001b[32;49mpip install --upgrade pip\u001b[0m\n"
     ]
    }
   ],
   "source": [
    "!pip install tqdm"
   ]
  },
  {
   "cell_type": "code",
   "execution_count": 3,
   "id": "9101ec0c",
   "metadata": {},
   "outputs": [],
   "source": [
    "import torch \n",
    "import torch.nn.functional as F\n",
    "import matplotlib.pyplot as plt\n",
    "%matplotlib inline"
   ]
  },
  {
   "cell_type": "code",
   "execution_count": 2,
   "id": "70b856d8",
   "metadata": {},
   "outputs": [
    {
     "data": {
      "text/plain": [
       "['emma', 'olivia', 'ava', 'isabella', 'sophia', 'charlotte', 'mia', 'amelia']"
      ]
     },
     "execution_count": 2,
     "metadata": {},
     "output_type": "execute_result"
    }
   ],
   "source": [
    "with open('names.txt', 'r') as file:\n",
    "    words = file.read().splitlines()\n",
    "\n",
    "words[:8]"
   ]
  },
  {
   "cell_type": "code",
   "execution_count": 4,
   "id": "49ecb299",
   "metadata": {},
   "outputs": [
    {
     "data": {
      "text/plain": [
       "32033"
      ]
     },
     "execution_count": 4,
     "metadata": {},
     "output_type": "execute_result"
    }
   ],
   "source": [
    "len(words)"
   ]
  },
  {
   "cell_type": "code",
   "execution_count": 5,
   "id": "359a5cd1",
   "metadata": {},
   "outputs": [
    {
     "name": "stdout",
     "output_type": "stream",
     "text": [
      "{1: 'a', 2: 'b', 3: 'c', 4: 'd', 5: 'e', 6: 'f', 7: 'g', 8: 'h', 9: 'i', 10: 'j', 11: 'k', 12: 'l', 13: 'm', 14: 'n', 15: 'o', 16: 'p', 17: 'q', 18: 'r', 19: 's', 20: 't', 21: 'u', 22: 'v', 23: 'w', 24: 'x', 25: 'y', 26: 'z', 0: '.'}\n"
     ]
    }
   ],
   "source": [
    "# build the vocabulary of characters and mappings to/from integers\n",
    "\n",
    "chars = sorted(list(set(''.join(words))))\n",
    "stoi = {s:i+1 for i,s in enumerate(chars)}\n",
    "stoi['.'] = 0\n",
    "itos = {i:s for s,i in stoi.items()}\n",
    "print(itos)"
   ]
  },
  {
   "cell_type": "code",
   "execution_count": 94,
   "id": "ee4b601f",
   "metadata": {},
   "outputs": [],
   "source": [
    "# build the dataset \n",
    "\n",
    "block_size = 3 # context length: how many characters do we take to predict the next one\n",
    "X, Y = [], []\n",
    "\n",
    "for w in words:\n",
    "    # print(w)\n",
    "\n",
    "    context = [0] * block_size\n",
    "    for ch in w + '.':\n",
    "        ix = stoi[ch]\n",
    "        X.append(context)\n",
    "        Y.append(ix)\n",
    "        # print(''.join(itos[i] for i in context), '---->', itos[ix])\n",
    "        context = context[1:] + [ix]\n",
    "\n",
    "X = torch.tensor(X)\n",
    "Y = torch.tensor(Y)\n"
   ]
  },
  {
   "cell_type": "code",
   "execution_count": 95,
   "id": "8ffb8cec",
   "metadata": {},
   "outputs": [
    {
     "data": {
      "text/plain": [
       "(torch.Size([228146, 3]), torch.int64, torch.Size([228146]), torch.int64)"
      ]
     },
     "execution_count": 95,
     "metadata": {},
     "output_type": "execute_result"
    }
   ],
   "source": [
    "X.shape, X.dtype, Y.shape, Y.dtype"
   ]
  },
  {
   "cell_type": "code",
   "execution_count": 288,
   "id": "2174c87f",
   "metadata": {},
   "outputs": [
    {
     "name": "stdout",
     "output_type": "stream",
     "text": [
      "torch.Size([182625, 3]) torch.int64 torch.Size([182625]) torch.int64\n",
      "torch.Size([22655, 3]) torch.int64 torch.Size([22655]) torch.int64\n",
      "torch.Size([22866, 3]) torch.int64 torch.Size([22866]) torch.int64\n"
     ]
    }
   ],
   "source": [
    "def build_dataset(words):\n",
    "    block_size = 3 # context length: how many characters do we take to predict the next one\n",
    "    X, Y = [], []\n",
    "\n",
    "    for w in words:\n",
    "        # print(w)\n",
    "\n",
    "        context = [0] * block_size\n",
    "        for ch in w + '.':\n",
    "            ix = stoi[ch]\n",
    "            X.append(context)\n",
    "            Y.append(ix)\n",
    "            # print(''.join(itos[i] for i in context), '---->', itos[ix])\n",
    "            context = context[1:] + [ix]\n",
    "\n",
    "    X = torch.tensor(X)\n",
    "    Y = torch.tensor(Y)\n",
    "\n",
    "    print(X.shape, X.dtype, Y.shape, Y.dtype)\n",
    "    return X, Y\n",
    "\n",
    "import random\n",
    "\n",
    "random.seed(42)\n",
    "random.shuffle(words)\n",
    "\n",
    "n1 = int(0.8*len(words))\n",
    "n2 = int(0.9*len(words))\n",
    "\n",
    "Xtr, Ytr = build_dataset(words=words[:n1])\n",
    "Xdev, Ydev = build_dataset(words=words[n1:n2])\n",
    "Xte, Yte = build_dataset(words=words[n2:])"
   ]
  },
  {
   "cell_type": "code",
   "execution_count": 8,
   "id": "dc673252",
   "metadata": {},
   "outputs": [],
   "source": [
    "C = torch.randn((27,2))"
   ]
  },
  {
   "cell_type": "code",
   "execution_count": null,
   "id": "9c4e1154",
   "metadata": {},
   "outputs": [
    {
     "data": {
      "text/plain": [
       "torch.Size([32, 3, 2])"
      ]
     },
     "execution_count": 13,
     "metadata": {},
     "output_type": "execute_result"
    }
   ],
   "source": [
    "C[X].shape "
   ]
  },
  {
   "cell_type": "code",
   "execution_count": 40,
   "id": "cecf3d08",
   "metadata": {},
   "outputs": [
    {
     "data": {
      "text/plain": [
       "torch.Size([32, 3, 2])"
      ]
     },
     "execution_count": 40,
     "metadata": {},
     "output_type": "execute_result"
    }
   ],
   "source": [
    "emb = C[X] # pytorch indexing is awesome. this line is embeddings the input\n",
    "\n",
    "emb.shape"
   ]
  },
  {
   "cell_type": "code",
   "execution_count": null,
   "id": "9ca79b82",
   "metadata": {},
   "outputs": [
    {
     "data": {
      "text/plain": [
       "torch.Size([32, 6])"
      ]
     },
     "execution_count": 53,
     "metadata": {},
     "output_type": "execute_result"
    }
   ],
   "source": [
    "torch.cat([emb[:, 0, :], emb[:, 1, :], emb[:, 2, :]], 1).shape # memory heavy as it creates new tensor "
   ]
  },
  {
   "cell_type": "code",
   "execution_count": 54,
   "id": "b66619ca",
   "metadata": {},
   "outputs": [
    {
     "data": {
      "text/plain": [
       "3"
      ]
     },
     "execution_count": 54,
     "metadata": {},
     "output_type": "execute_result"
    }
   ],
   "source": [
    "len(torch.unbind(emb, 1))"
   ]
  },
  {
   "cell_type": "code",
   "execution_count": 55,
   "id": "c770a2ec",
   "metadata": {},
   "outputs": [
    {
     "data": {
      "text/plain": [
       "torch.Size([32, 6])"
      ]
     },
     "execution_count": 55,
     "metadata": {},
     "output_type": "execute_result"
    }
   ],
   "source": [
    "torch.cat(torch.unbind(emb, 1), 1).shape"
   ]
  },
  {
   "cell_type": "code",
   "execution_count": 56,
   "id": "c8015eef",
   "metadata": {},
   "outputs": [],
   "source": [
    "W1 = torch.randn((6, 100))\n",
    "b1 = torch.randn(100)"
   ]
  },
  {
   "cell_type": "code",
   "execution_count": 62,
   "id": "e2148e9e",
   "metadata": {},
   "outputs": [],
   "source": [
    "h = torch.tanh(emb.view(-1, 6) @ W1 + b1) # here pytorch interprets the -1 as the size. Details: we had 32*3*2, we wentered 6; pytorch divides 32*3*2/6 and puts whatever left inplace of -1"
   ]
  },
  {
   "cell_type": "code",
   "execution_count": 58,
   "id": "002dfa85",
   "metadata": {},
   "outputs": [
    {
     "data": {
      "text/plain": [
       "torch.Size([32, 100])"
      ]
     },
     "execution_count": 58,
     "metadata": {},
     "output_type": "execute_result"
    }
   ],
   "source": [
    "(emb.view(-1, 6) @ W1).shape"
   ]
  },
  {
   "cell_type": "code",
   "execution_count": 59,
   "id": "af3fedcc",
   "metadata": {},
   "outputs": [
    {
     "data": {
      "text/plain": [
       "torch.Size([100])"
      ]
     },
     "execution_count": 59,
     "metadata": {},
     "output_type": "execute_result"
    }
   ],
   "source": [
    "b1.shape"
   ]
  },
  {
   "cell_type": "code",
   "execution_count": 60,
   "id": "a5490f48",
   "metadata": {},
   "outputs": [],
   "source": [
    "# 32, 100       broadcasting rules in pytorch. it aligns on the right that creates a fake dimension...\n",
    "#  1, 100"
   ]
  },
  {
   "cell_type": "code",
   "execution_count": 64,
   "id": "28faead8",
   "metadata": {},
   "outputs": [
    {
     "data": {
      "text/plain": [
       "torch.Size([32, 100])"
      ]
     },
     "execution_count": 64,
     "metadata": {},
     "output_type": "execute_result"
    }
   ],
   "source": [
    "h.shape"
   ]
  },
  {
   "cell_type": "code",
   "execution_count": 65,
   "id": "8ec7c00e",
   "metadata": {},
   "outputs": [
    {
     "data": {
      "text/plain": [
       "torch.Size([32, 27])"
      ]
     },
     "execution_count": 65,
     "metadata": {},
     "output_type": "execute_result"
    }
   ],
   "source": [
    "W2 = torch.randn((100, 27))\n",
    "b2 = torch. randn(27)\n",
    "\n",
    "logits = h @ W2 + b2\n",
    "logits.shape"
   ]
  },
  {
   "cell_type": "code",
   "execution_count": 69,
   "id": "efdca743",
   "metadata": {},
   "outputs": [],
   "source": [
    "counts = logits.exp()\n",
    "prob = counts/counts.sum(1, keepdim=True)"
   ]
  },
  {
   "cell_type": "code",
   "execution_count": 74,
   "id": "4b6d1084",
   "metadata": {},
   "outputs": [
    {
     "data": {
      "text/plain": [
       "torch.Size([32, 27])"
      ]
     },
     "execution_count": 74,
     "metadata": {},
     "output_type": "execute_result"
    }
   ],
   "source": [
    "prob.shape"
   ]
  },
  {
   "cell_type": "code",
   "execution_count": 76,
   "id": "68538d5f",
   "metadata": {},
   "outputs": [],
   "source": [
    "loss = -prob[torch.arange(32), Y].log().mean()"
   ]
  },
  {
   "cell_type": "code",
   "execution_count": 77,
   "id": "815d3e02",
   "metadata": {},
   "outputs": [
    {
     "data": {
      "text/plain": [
       "tensor(16.3961)"
      ]
     },
     "execution_count": 77,
     "metadata": {},
     "output_type": "execute_result"
    }
   ],
   "source": [
    "loss"
   ]
  },
  {
   "cell_type": "markdown",
   "id": "50c39a2d",
   "metadata": {},
   "source": [
    "# Training"
   ]
  },
  {
   "cell_type": "code",
   "execution_count": 78,
   "id": "48112107",
   "metadata": {},
   "outputs": [],
   "source": [
    "# clean and readable code "
   ]
  },
  {
   "cell_type": "code",
   "execution_count": 289,
   "id": "62a52c5f",
   "metadata": {},
   "outputs": [
    {
     "data": {
      "text/plain": [
       "(torch.Size([182625, 3]), torch.Size([182625]))"
      ]
     },
     "execution_count": 289,
     "metadata": {},
     "output_type": "execute_result"
    }
   ],
   "source": [
    "Xtr.shape, Ytr.shape # dataset"
   ]
  },
  {
   "cell_type": "code",
   "execution_count": 392,
   "id": "9063d4a1",
   "metadata": {},
   "outputs": [],
   "source": [
    "g = torch.Generator().manual_seed(2147483647)\n",
    "C = torch.randn((27,10), generator=g)\n",
    "W1 = torch.randn((30,300), generator=g)\n",
    "b1 = torch.randn(300, generator=g)\n",
    "W2 = torch.randn((300, 27), generator=g)\n",
    "b2 = torch.randn(27, generator=g)\n",
    "parameters = [C, W1, b1, W2, b2]"
   ]
  },
  {
   "cell_type": "code",
   "execution_count": 393,
   "id": "788690ff",
   "metadata": {},
   "outputs": [
    {
     "data": {
      "text/plain": [
       "17697"
      ]
     },
     "execution_count": 393,
     "metadata": {},
     "output_type": "execute_result"
    }
   ],
   "source": [
    "sum(p.nelement() for p in parameters) # num of parameters in total"
   ]
  },
  {
   "cell_type": "code",
   "execution_count": null,
   "id": "e5cd20db",
   "metadata": {},
   "outputs": [],
   "source": []
  },
  {
   "cell_type": "code",
   "execution_count": 395,
   "id": "616f2c50",
   "metadata": {},
   "outputs": [],
   "source": [
    "# lre = torch.linspace(-3, 0, 1000)\n",
    "# lrs = 10**lre"
   ]
  },
  {
   "cell_type": "code",
   "execution_count": 396,
   "id": "74e9eb93",
   "metadata": {},
   "outputs": [],
   "source": [
    "losses = []"
   ]
  },
  {
   "cell_type": "code",
   "execution_count": 400,
   "id": "2d3b792c",
   "metadata": {},
   "outputs": [
    {
     "name": "stderr",
     "output_type": "stream",
     "text": [
      "training the model:   0%|          | 505/200000 [00:00<01:12, 2745.78it/s]"
     ]
    },
    {
     "name": "stdout",
     "output_type": "stream",
     "text": [
      "2.023036241531372\n"
     ]
    },
    {
     "name": "stderr",
     "output_type": "stream",
     "text": [
      "training the model:   5%|▌         | 10419/200000 [00:02<00:49, 3818.67it/s]"
     ]
    },
    {
     "name": "stdout",
     "output_type": "stream",
     "text": [
      "1.9955047369003296\n"
     ]
    },
    {
     "name": "stderr",
     "output_type": "stream",
     "text": [
      "training the model:  10%|█         | 20741/200000 [00:05<00:45, 3971.06it/s]"
     ]
    },
    {
     "name": "stdout",
     "output_type": "stream",
     "text": [
      "2.177570343017578\n"
     ]
    },
    {
     "name": "stderr",
     "output_type": "stream",
     "text": [
      "training the model:  15%|█▌        | 30418/200000 [00:08<00:43, 3922.50it/s]"
     ]
    },
    {
     "name": "stdout",
     "output_type": "stream",
     "text": [
      "2.415067434310913\n"
     ]
    },
    {
     "name": "stderr",
     "output_type": "stream",
     "text": [
      "training the model:  20%|██        | 40611/200000 [00:11<00:46, 3418.74it/s]"
     ]
    },
    {
     "name": "stdout",
     "output_type": "stream",
     "text": [
      "2.265411376953125\n"
     ]
    },
    {
     "name": "stderr",
     "output_type": "stream",
     "text": [
      "training the model:  25%|██▌       | 50627/200000 [00:13<00:37, 4032.53it/s]"
     ]
    },
    {
     "name": "stdout",
     "output_type": "stream",
     "text": [
      "2.1923725605010986\n"
     ]
    },
    {
     "name": "stderr",
     "output_type": "stream",
     "text": [
      "training the model:  30%|███       | 60832/200000 [00:16<00:34, 4062.87it/s]"
     ]
    },
    {
     "name": "stdout",
     "output_type": "stream",
     "text": [
      "2.262681722640991\n"
     ]
    },
    {
     "name": "stderr",
     "output_type": "stream",
     "text": [
      "training the model:  35%|███▌      | 70622/200000 [00:19<00:32, 4010.12it/s]"
     ]
    },
    {
     "name": "stdout",
     "output_type": "stream",
     "text": [
      "2.2851309776306152\n"
     ]
    },
    {
     "name": "stderr",
     "output_type": "stream",
     "text": [
      "training the model:  40%|████      | 80764/200000 [00:21<00:29, 4061.90it/s]"
     ]
    },
    {
     "name": "stdout",
     "output_type": "stream",
     "text": [
      "2.3026599884033203\n"
     ]
    },
    {
     "name": "stderr",
     "output_type": "stream",
     "text": [
      "training the model:  45%|████▌     | 90561/200000 [00:24<00:30, 3645.31it/s]"
     ]
    },
    {
     "name": "stdout",
     "output_type": "stream",
     "text": [
      "2.298356771469116\n"
     ]
    },
    {
     "name": "stderr",
     "output_type": "stream",
     "text": [
      "training the model:  50%|█████     | 100401/200000 [00:27<00:26, 3824.94it/s]"
     ]
    },
    {
     "name": "stdout",
     "output_type": "stream",
     "text": [
      "2.2919487953186035\n"
     ]
    },
    {
     "name": "stderr",
     "output_type": "stream",
     "text": [
      "training the model:  55%|█████▌    | 110558/200000 [00:29<00:23, 3805.37it/s]"
     ]
    },
    {
     "name": "stdout",
     "output_type": "stream",
     "text": [
      "1.8348509073257446\n"
     ]
    },
    {
     "name": "stderr",
     "output_type": "stream",
     "text": [
      "training the model:  60%|██████    | 120719/200000 [00:32<00:19, 3975.17it/s]"
     ]
    },
    {
     "name": "stdout",
     "output_type": "stream",
     "text": [
      "1.9195195436477661\n"
     ]
    },
    {
     "name": "stderr",
     "output_type": "stream",
     "text": [
      "training the model:  65%|██████▌   | 130691/200000 [00:34<00:17, 3973.59it/s]"
     ]
    },
    {
     "name": "stdout",
     "output_type": "stream",
     "text": [
      "2.051123857498169\n"
     ]
    },
    {
     "name": "stderr",
     "output_type": "stream",
     "text": [
      "training the model:  70%|███████   | 140725/200000 [00:37<00:14, 4003.21it/s]"
     ]
    },
    {
     "name": "stdout",
     "output_type": "stream",
     "text": [
      "2.0982906818389893\n"
     ]
    },
    {
     "name": "stderr",
     "output_type": "stream",
     "text": [
      "training the model:  75%|███████▌  | 150725/200000 [00:40<00:12, 4029.36it/s]"
     ]
    },
    {
     "name": "stdout",
     "output_type": "stream",
     "text": [
      "2.0358963012695312\n"
     ]
    },
    {
     "name": "stderr",
     "output_type": "stream",
     "text": [
      "training the model:  80%|████████  | 160752/200000 [00:42<00:09, 4010.86it/s]"
     ]
    },
    {
     "name": "stdout",
     "output_type": "stream",
     "text": [
      "2.094341516494751\n"
     ]
    },
    {
     "name": "stderr",
     "output_type": "stream",
     "text": [
      "training the model:  85%|████████▌ | 170713/200000 [00:45<00:07, 3715.62it/s]"
     ]
    },
    {
     "name": "stdout",
     "output_type": "stream",
     "text": [
      "2.004779577255249\n"
     ]
    },
    {
     "name": "stderr",
     "output_type": "stream",
     "text": [
      "training the model:  90%|█████████ | 180542/200000 [00:47<00:05, 3673.35it/s]"
     ]
    },
    {
     "name": "stdout",
     "output_type": "stream",
     "text": [
      "1.989151120185852\n"
     ]
    },
    {
     "name": "stderr",
     "output_type": "stream",
     "text": [
      "training the model:  95%|█████████▌| 190538/200000 [00:50<00:02, 3639.44it/s]"
     ]
    },
    {
     "name": "stdout",
     "output_type": "stream",
     "text": [
      "2.004084587097168\n"
     ]
    },
    {
     "name": "stderr",
     "output_type": "stream",
     "text": [
      "training the model: 100%|██████████| 200000/200000 [00:52<00:00, 3776.51it/s]\n"
     ]
    }
   ],
   "source": [
    "from tqdm import tqdm\n",
    "\n",
    "# lri = []\n",
    "# lossi = []\n",
    "\n",
    "\n",
    "for i in tqdm(range(200000), desc=\"training the model\"):\n",
    "\n",
    "\n",
    "    #constructing minibatches\n",
    "    ix = torch.randint(0, Xtr.shape[0], (64,))\n",
    "\n",
    "\n",
    "    # forward pass\n",
    "    emb = C[Xtr[ix]]\n",
    "    h = torch.tanh(emb.view(-1, 30) @ W1 + b1)\n",
    "    logits = h @ W2 + b2\n",
    "    loss = F.cross_entropy(logits, Ytr[ix])\n",
    "\n",
    "    # counts = logits.exp()\n",
    "    # prob = counts / counts.sum(1, keepdim=True)\n",
    "    # loss = -prob[torch.arange(32), Y].log().mean()\n",
    "    # print(loss.item())\n",
    "\n",
    "    #backwakrd pass\n",
    "    for p in parameters:\n",
    "        p.grad = None\n",
    "    loss.backward()\n",
    "    #update\n",
    "    # lr = lrs[i]\n",
    "    lr = 0.1 if i<100000 else 0.01\n",
    "    for p in parameters:\n",
    "        p.data += -lr * p.grad\n",
    "\n",
    "    # track stats\n",
    "    # lri.append(lre[i])\n",
    "    # lossi.append(loss.item())\n",
    "    # if i%100==0:\n",
    "    #     emb = C[X] \n",
    "    #     h = torch.tanh(emb.view(-1, 6) @ W1 + b1) \n",
    "    #     logits = h @ W2 + b2\n",
    "    #     loss = F.cross_entropy(logits, Y)\n",
    "    #     losses.append(loss.item())\n",
    "    losses.append(loss.log10().item())\n",
    "    if i%10000==0:\n",
    "        print(loss.item())\n",
    "\n",
    "\n",
    "# print(loss.item())\n"
   ]
  },
  {
   "cell_type": "code",
   "execution_count": 401,
   "id": "b63f0ccc",
   "metadata": {},
   "outputs": [
    {
     "name": "stdout",
     "output_type": "stream",
     "text": [
      "tensor(2.0572, grad_fn=<NllLossBackward0>)\n"
     ]
    }
   ],
   "source": [
    "emb = C[Xtr] \n",
    "h = torch.tanh(emb.view(-1, 30) @ W1 + b1) # (32, 100)\n",
    "logits = h @ W2 + b2\n",
    "loss = F.cross_entropy(logits, Ytr)\n",
    "print(loss)"
   ]
  },
  {
   "cell_type": "code",
   "execution_count": 402,
   "id": "764d14d7",
   "metadata": {},
   "outputs": [
    {
     "name": "stdout",
     "output_type": "stream",
     "text": [
      "tensor(2.1380, grad_fn=<NllLossBackward0>)\n"
     ]
    }
   ],
   "source": [
    "emb = C[Xdev] \n",
    "h = torch.tanh(emb.view(-1, 30) @ W1 + b1) # (32, 100)\n",
    "logits = h @ W2 + b2\n",
    "loss = F.cross_entropy(logits, Ydev)\n",
    "print(loss)"
   ]
  },
  {
   "cell_type": "code",
   "execution_count": 378,
   "id": "f7dccca6",
   "metadata": {},
   "outputs": [
    {
     "data": {
      "text/plain": [
       "[<matplotlib.lines.Line2D at 0x12f0c1850>]"
      ]
     },
     "execution_count": 378,
     "metadata": {},
     "output_type": "execute_result"
    },
    {
     "data": {
      "image/png": "[encoded data removed]",
      "text/plain": [
       "<Figure size 640x480 with 1 Axes>"
      ]
     },
     "metadata": {},
     "output_type": "display_data"
    }
   ],
   "source": [
    "plt.plot(range(len(losses)), losses)"
   ]
  },
  {
   "cell_type": "code",
   "execution_count": 112,
   "id": "568b82d0",
   "metadata": {},
   "outputs": [
    {
     "data": {
      "text/plain": [
       "torch.return_types.max(\n",
       "values=tensor([3.0118, 3.4345, 3.4345, 3.9666, 3.4072, 2.8404, 4.1417, 1.6754, 3.4345,\n",
       "        2.9413, 2.7502, 2.7751, 2.8227, 3.4065, 2.3092, 3.4832, 2.7445, 1.7481,\n",
       "        2.5941, 3.4345, 3.2779, 3.4345, 3.4969, 2.8404, 2.2532, 2.9893, 3.4345,\n",
       "        3.4345, 3.4022, 2.0462, 4.1740, 3.1229], grad_fn=<MaxBackward0>),\n",
       "indices=tensor([14, 18, 18, 18, 14,  1,  1, 18, 18,  9, 14, 18,  0,  1, 18, 18, 14,  5,\n",
       "         9, 18, 18, 18,  1,  1, 18, 14, 18, 18, 18,  5, 14,  5]))"
      ]
     },
     "execution_count": 112,
     "metadata": {},
     "output_type": "execute_result"
    }
   ],
   "source": [
    "logits.max(1)"
   ]
  },
  {
   "cell_type": "code",
   "execution_count": 93,
   "id": "6a6112b2",
   "metadata": {},
   "outputs": [
    {
     "data": {
      "text/plain": [
       "tensor([ 5, 13, 13,  1,  0, 15, 12,  9, 22,  9,  1,  0,  1, 22,  1,  0,  9, 19,\n",
       "         1,  2,  5, 12, 12,  1,  0, 19, 15, 16,  8,  9,  1,  0])"
      ]
     },
     "execution_count": 93,
     "metadata": {},
     "output_type": "execute_result"
    }
   ],
   "source": [
    "Y"
   ]
  },
  {
   "cell_type": "markdown",
   "id": "60ad63e8",
   "metadata": {},
   "source": [
    "# Visualizing embeddings"
   ]
  },
  {
   "cell_type": "code",
   "execution_count": 335,
   "id": "15c07ad2",
   "metadata": {},
   "outputs": [
    {
     "data": {
      "image/png": "[encoded data removed]",
      "text/plain": [
       "<Figure size 800x800 with 1 Axes>"
      ]
     },
     "metadata": {},
     "output_type": "display_data"
    }
   ],
   "source": [
    "plt.figure(figsize=(8,8))\n",
    "plt.scatter(C[:,0].data, C[:,1].data, s=200)\n",
    "for i in range(C.shape[0]):\n",
    "    plt.text(C[i,0].item(), C[i,1].item(), itos[i], ha='center', va='center', color='white')\n",
    "plt.grid('minor')"
   ]
  },
  {
   "cell_type": "markdown",
   "id": "58984a3e",
   "metadata": {},
   "source": [
    "# Sample from the model"
   ]
  },
  {
   "cell_type": "code",
   "execution_count": 416,
   "id": "86e72978",
   "metadata": {},
   "outputs": [
    {
     "name": "stdout",
     "output_type": "stream",
     "text": [
      "anuelen.\n",
      "tia.\n",
      "marian.\n",
      "dante.\n",
      "namillaylen.\n",
      "kemarce.\n",
      "kan.\n",
      "epiacenden.\n",
      "dmin.\n",
      "kend.\n",
      "josedrick.\n",
      "lor.\n",
      "miquetzabelle.\n",
      "ine.\n",
      "camarvi.\n",
      "karlen.\n",
      "jaymar.\n",
      "tal.\n",
      "jena.\n",
      "judger.\n"
     ]
    }
   ],
   "source": [
    "g = torch.Generator().manual_seed(42)\n",
    "\n",
    "for _ in range(20):\n",
    "    out =[]\n",
    "    context = [0] * block_size\n",
    "    while True:\n",
    "        emb = C[torch.tensor([context])]\n",
    "        h = torch.tanh(emb.view(1, -1) @ W1 + b1)\n",
    "        logits = h @ W2 + b2\n",
    "        probs = F.softmax(logits, dim=1)\n",
    "        ix = torch.multinomial(probs, num_samples=1, generator=g).item()\n",
    "        context = context[1:] + [ix]\n",
    "        out.append(ix)\n",
    "        if ix == 0:\n",
    "            break;\n",
    "\n",
    "    print(''.join(itos[i] for i in out))"
   ]
  },
  {
   "cell_type": "code",
   "execution_count": null,
   "id": "c0af95b6",
   "metadata": {},
   "outputs": [],
   "source": []
  }
 ],
 "metadata": {
  "kernelspec": {
   "display_name": "Python 3",
   "language": "python",
   "name": "python3"
  },
  "language_info": {
   "codemirror_mode": {
    "name": "ipython",
    "version": 3
   },
   "file_extension": ".py",
   "mimetype": "text/x-python",
   "name": "python",
   "nbconvert_exporter": "python",
   "pygments_lexer": "ipython3",
   "version": "3.12.7"
  }
 },
 "nbformat": 4,
 "nbformat_minor": 5
}
